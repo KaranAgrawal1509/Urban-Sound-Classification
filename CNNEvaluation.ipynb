{
 "cells": [
  {
   "cell_type": "markdown",
   "metadata": {},
   "source": [
    "# MIT License\n",
    "Copyright (c) 2022 Karan Raman Agrawal, Sanika Patne\n",
    "\n",
    "Permission is hereby granted, free of charge, to any person obtaining a copy of this software and associated documentation files (the \"Software\"), to deal in the Software without restriction, including without limitation the rights to use, copy, modify, merge, publish, distribute, sublicense, and/or sell copies of the Software, and to permit persons to whom the Software is furnished to do so, subject to the following conditions:\n",
    "\n",
    "The above copyright notice and this permission notice shall be included in all copies or substantial portions of the Software.\n",
    "\n",
    "THE SOFTWARE IS PROVIDED \"AS IS\", WITHOUT WARRANTY OF ANY KIND, EXPRESS OR IMPLIED, INCLUDING BUT NOT LIMITED TO THE WARRANTIES OF MERCHANTABILITY, FITNESS FOR A PARTICULAR PURPOSE AND NONINFRINGEMENT. IN NO EVENT SHALL THE AUTHORS OR COPYRIGHT HOLDERS BE LIABLE FOR ANY CLAIM, DAMAGES OR OTHER LIABILITY, WHETHER IN AN ACTION OF CONTRACT, TORT OR OTHERWISE, ARISING FROM, OUT OF OR IN CONNECTION WITH THE SOFTWARE OR THE USE OR OTHER DEALINGS IN THE SOFTWARE."
   ]
  },
  {
   "cell_type": "markdown",
   "metadata": {},
   "source": [
    "# Dataset Description\n",
    "For this project we will be using the “UrbanSound8k” dataset, which is publicly available for academic use.\n",
    "\n",
    "This dataset contains 8732 labeled sound excerpts (<=4s) of urban sounds from 10 classes: air_conditioner, car_horn, children_playing, dog_bark, drilling, enginge_idling, gun_shot, jackhammer, siren, and street_music. The audio files are in \".wav\" format. \n",
    "\n",
    "The samples are around 4 seconds in length. \n",
    "\n",
    "Each sound sample is labeled with the class to which it belongs. After downloading the dataset, we see that it consists of two parts:\n",
    "\n",
    "- Audio files in the ‘audio’ folder: It has 10 sub-folders named ‘fold1’ through ‘fold10’. Each sub-folder contains a number of ‘.wav’ audio samples eg. ‘fold1/103074–7–1–0.wav’\n",
    "\n",
    "- Metadata in the ‘metadata’ folder: It has a file ‘UrbanSound8K.csv’ that contains information about each audio sample in the dataset such as its filename, its class label, the ‘fold’ sub-folder location, and so on. The class label is a numeric Class ID from 0–9 for each of the 10 classes. eg. The number 0 means air conditioner, 1 is a car horn, and so on. \n"
   ]
  },
  {
   "cell_type": "code",
   "execution_count": 1,
   "metadata": {
    "id": "-q3jGDdO7McD"
   },
   "outputs": [],
   "source": [
    "# Importing Necessary Libraries\n",
    "import os\n",
    "import tensorflow as tf\n",
    "from tensorflow import keras\n",
    "from keras.models import load_model\n",
    "from tensorflow.keras import layers\n",
    "import numpy as np"
   ]
  },
  {
   "cell_type": "code",
   "execution_count": 2,
   "metadata": {
    "id": "CWH6V9cO7gmj"
   },
   "outputs": [],
   "source": [
    "# Loading CNN for Evaluation\n",
    "cnn_model = load_model(\"/content/drive/MyDrive/DSMT/save_at_6.h5\")"
   ]
  },
  {
   "cell_type": "code",
   "execution_count": 3,
   "metadata": {
    "id": "CTt8b4nn7qNV"
   },
   "outputs": [],
   "source": [
    "# Setting Input Image Size and Batch Size\n",
    "image_size = (512, 512)\n",
    "batch_size = 16"
   ]
  },
  {
   "cell_type": "code",
   "execution_count": 4,
   "metadata": {
    "colab": {
     "base_uri": "https://localhost:8080/"
    },
    "id": "sszhGiAL7w3n",
    "outputId": "03011617-dd34-495c-e11e-6b69605a908d"
   },
   "outputs": [
    {
     "name": "stdout",
     "output_type": "stream",
     "text": [
      "Found 990 files belonging to 10 classes.\n"
     ]
    }
   ],
   "source": [
    "# Validation Generator\n",
    "valid_ds = tf.keras.preprocessing.image_dataset_from_directory(\n",
    "    \"/content/drive/MyDrive/DSMT/Spectrogram_Dataset/Validation_Data\",\n",
    "    seed=1337,\n",
    "    image_size=image_size,\n",
    "    batch_size=batch_size,\n",
    ")"
   ]
  },
  {
   "cell_type": "code",
   "execution_count": 5,
   "metadata": {
    "id": "q1kuiF-372Ne"
   },
   "outputs": [],
   "source": [
    "# Evaluation CNN\n",
    "score = cnn_model.evaluate(valid_ds, verbose=0)"
   ]
  },
  {
   "cell_type": "code",
   "execution_count": 6,
   "metadata": {
    "colab": {
     "base_uri": "https://localhost:8080/"
    },
    "id": "s1x3HDjt73rV",
    "outputId": "d7a16c6a-0582-415e-8fd0-fcfb22a60df9"
   },
   "outputs": [
    {
     "name": "stdout",
     "output_type": "stream",
     "text": [
      "Loss of CNN Model is  1.3874717950820923\n",
      "Accuracy of CNN Model is  0.7030302882194519\n"
     ]
    }
   ],
   "source": [
    "print(\"Loss of CNN Model is \", score[0])\n",
    "print(\"Accuracy of CNN Model is \", score[1])"
   ]
  },
  {
   "cell_type": "code",
   "execution_count": 7,
   "metadata": {
    "id": "A-5Zfl0i75zi"
   },
   "outputs": [],
   "source": [
    "# Making Predictions using CNN\n",
    "cnn_predictions = cnn_model.predict(valid_ds)"
   ]
  },
  {
   "cell_type": "code",
   "execution_count": 8,
   "metadata": {
    "id": "3IxMPTIQF75L"
   },
   "outputs": [],
   "source": [
    "cnn_predictions = np.argmax(cnn_predictions, axis=1)"
   ]
  },
  {
   "cell_type": "code",
   "execution_count": 9,
   "metadata": {
    "colab": {
     "base_uri": "https://localhost:8080/"
    },
    "id": "b8Yx25hSGQ6_",
    "outputId": "fac7b417-553d-4e54-e0a3-66e3bc1c3baa"
   },
   "outputs": [
    {
     "data": {
      "text/plain": [
       "['air_conditioner',\n",
       " 'car_horn',\n",
       " 'children_playing',\n",
       " 'dog_bark',\n",
       " 'drilling',\n",
       " 'engine_idling',\n",
       " 'gun_shot',\n",
       " 'jackhammer',\n",
       " 'siren',\n",
       " 'street_music']"
      ]
     },
     "execution_count": 9,
     "metadata": {},
     "output_type": "execute_result"
    }
   ],
   "source": [
    "# Classes of Data in Validation dataset\n",
    "valid_ds.class_names"
   ]
  },
  {
   "cell_type": "code",
   "execution_count": 10,
   "metadata": {
    "colab": {
     "base_uri": "https://localhost:8080/"
    },
    "id": "Q7nflAX1Hb4y",
    "outputId": "be029e61-8e1d-452c-8e69-2c7f84c4f159"
   },
   "outputs": [
    {
     "data": {
      "text/plain": [
       "{'air_conditioner': 0,\n",
       " 'car_horn': 1,\n",
       " 'children_playing': 2,\n",
       " 'dog_bark': 3,\n",
       " 'drilling': 4,\n",
       " 'engine_idling': 5,\n",
       " 'gun_shot': 6,\n",
       " 'jackhammer': 7,\n",
       " 'siren': 8,\n",
       " 'street_music': 9}"
      ]
     },
     "execution_count": 10,
     "metadata": {},
     "output_type": "execute_result"
    }
   ],
   "source": [
    "# Dictionary Mapping\n",
    "class_indices = {}\n",
    "for i in valid_ds.class_names:\n",
    "    class_indices[i] = valid_ds.class_names.index(i)\n",
    "class_indices"
   ]
  },
  {
   "cell_type": "code",
   "execution_count": 12,
   "metadata": {
    "id": "btBBZEYHT-zA"
   },
   "outputs": [],
   "source": [
    "# Helper Function to Map Results\n",
    "def get_key(val):\n",
    "    for key, value in class_indices.items():\n",
    "        if val == value:\n",
    "            return key\n",
    "\n",
    "\n",
    "def mapping(predictions):\n",
    "    new_list = []\n",
    "    for i in predictions:\n",
    "        new_list.append(get_key(i))\n",
    "    return np.array(new_list)"
   ]
  },
  {
   "cell_type": "code",
   "execution_count": 13,
   "metadata": {
    "colab": {
     "base_uri": "https://localhost:8080/"
    },
    "id": "wiyrtGlRUE-h",
    "outputId": "8fc49370-252d-4757-f905-cebba9e4bc1a"
   },
   "outputs": [
    {
     "data": {
      "text/plain": [
       "array(['jackhammer', 'jackhammer', 'car_horn', 'drilling',\n",
       "       'engine_idling', 'engine_idling', 'drilling', 'siren',\n",
       "       'street_music', 'street_music', 'street_music', 'drilling',\n",
       "       'car_horn', 'jackhammer', 'jackhammer', 'drilling',\n",
       "       'air_conditioner', 'jackhammer', 'drilling', 'air_conditioner',\n",
       "       'air_conditioner', 'street_music', 'car_horn', 'drilling', 'siren',\n",
       "       'engine_idling', 'street_music', 'drilling', 'car_horn',\n",
       "       'drilling', 'car_horn', 'street_music', 'engine_idling', 'siren',\n",
       "       'drilling', 'siren', 'engine_idling', 'gun_shot',\n",
       "       'air_conditioner', 'engine_idling', 'drilling', 'gun_shot',\n",
       "       'siren', 'car_horn', 'drilling', 'car_horn', 'drilling',\n",
       "       'children_playing', 'drilling', 'car_horn', 'drilling', 'drilling',\n",
       "       'engine_idling', 'siren', 'drilling', 'drilling', 'siren',\n",
       "       'street_music', 'gun_shot', 'children_playing', 'drilling',\n",
       "       'gun_shot', 'street_music', 'siren', 'drilling',\n",
       "       'children_playing', 'drilling', 'dog_bark', 'car_horn',\n",
       "       'street_music', 'drilling', 'drilling', 'siren', 'gun_shot',\n",
       "       'children_playing', 'drilling', 'siren', 'street_music',\n",
       "       'gun_shot', 'engine_idling', 'drilling', 'siren', 'engine_idling',\n",
       "       'drilling', 'jackhammer', 'children_playing', 'engine_idling',\n",
       "       'gun_shot', 'siren', 'jackhammer', 'gun_shot', 'street_music',\n",
       "       'drilling', 'street_music', 'gun_shot', 'engine_idling',\n",
       "       'jackhammer', 'drilling', 'drilling', 'engine_idling',\n",
       "       'air_conditioner', 'street_music', 'drilling', 'street_music',\n",
       "       'jackhammer', 'jackhammer', 'car_horn', 'car_horn', 'car_horn',\n",
       "       'drilling', 'siren', 'drilling', 'drilling', 'street_music',\n",
       "       'drilling', 'car_horn', 'children_playing', 'car_horn', 'siren',\n",
       "       'car_horn', 'gun_shot', 'dog_bark', 'street_music', 'street_music',\n",
       "       'air_conditioner', 'children_playing', 'street_music',\n",
       "       'street_music', 'drilling', 'street_music', 'car_horn', 'drilling',\n",
       "       'street_music', 'children_playing', 'engine_idling',\n",
       "       'children_playing', 'children_playing', 'drilling',\n",
       "       'air_conditioner', 'engine_idling', 'drilling', 'jackhammer',\n",
       "       'car_horn', 'gun_shot', 'drilling', 'dog_bark', 'siren',\n",
       "       'engine_idling', 'children_playing', 'gun_shot', 'drilling',\n",
       "       'jackhammer', 'drilling', 'jackhammer', 'siren', 'engine_idling',\n",
       "       'engine_idling', 'drilling', 'drilling', 'drilling',\n",
       "       'street_music', 'siren', 'car_horn', 'children_playing', 'siren',\n",
       "       'street_music', 'drilling', 'gun_shot', 'engine_idling',\n",
       "       'street_music', 'gun_shot', 'drilling', 'children_playing',\n",
       "       'children_playing', 'drilling', 'engine_idling', 'jackhammer',\n",
       "       'dog_bark', 'car_horn', 'drilling', 'jackhammer', 'dog_bark',\n",
       "       'drilling', 'drilling', 'jackhammer', 'car_horn', 'drilling',\n",
       "       'car_horn', 'siren', 'jackhammer', 'gun_shot', 'siren', 'drilling',\n",
       "       'children_playing', 'street_music', 'children_playing',\n",
       "       'air_conditioner', 'drilling', 'children_playing',\n",
       "       'children_playing', 'engine_idling', 'drilling',\n",
       "       'children_playing', 'children_playing', 'car_horn',\n",
       "       'engine_idling', 'drilling', 'gun_shot', 'drilling', 'siren',\n",
       "       'siren', 'jackhammer', 'dog_bark', 'jackhammer', 'gun_shot',\n",
       "       'drilling', 'gun_shot', 'car_horn', 'drilling', 'engine_idling',\n",
       "       'street_music', 'street_music', 'street_music', 'drilling',\n",
       "       'jackhammer', 'car_horn', 'drilling', 'gun_shot', 'drilling',\n",
       "       'drilling', 'drilling', 'drilling', 'gun_shot', 'children_playing',\n",
       "       'engine_idling', 'children_playing', 'street_music', 'gun_shot',\n",
       "       'dog_bark', 'engine_idling', 'street_music', 'street_music',\n",
       "       'gun_shot', 'drilling', 'engine_idling', 'dog_bark', 'drilling',\n",
       "       'dog_bark', 'dog_bark', 'engine_idling', 'air_conditioner',\n",
       "       'street_music', 'air_conditioner', 'car_horn', 'gun_shot', 'siren',\n",
       "       'siren', 'drilling', 'car_horn', 'gun_shot', 'siren', 'gun_shot',\n",
       "       'children_playing', 'gun_shot', 'dog_bark', 'car_horn',\n",
       "       'air_conditioner', 'drilling', 'drilling', 'drilling',\n",
       "       'jackhammer', 'children_playing', 'street_music', 'drilling',\n",
       "       'siren', 'gun_shot', 'drilling', 'dog_bark', 'drilling',\n",
       "       'dog_bark', 'gun_shot', 'children_playing', 'dog_bark', 'car_horn',\n",
       "       'siren', 'dog_bark', 'street_music', 'engine_idling', 'car_horn',\n",
       "       'drilling', 'drilling', 'street_music', 'gun_shot', 'street_music',\n",
       "       'drilling', 'engine_idling', 'children_playing', 'air_conditioner',\n",
       "       'street_music', 'air_conditioner', 'street_music', 'drilling',\n",
       "       'street_music', 'engine_idling', 'children_playing', 'siren',\n",
       "       'jackhammer', 'gun_shot', 'street_music', 'engine_idling',\n",
       "       'gun_shot', 'drilling', 'gun_shot', 'siren', 'siren', 'siren',\n",
       "       'children_playing', 'gun_shot', 'siren', 'car_horn', 'drilling',\n",
       "       'street_music', 'air_conditioner', 'street_music', 'engine_idling',\n",
       "       'drilling', 'street_music', 'drilling', 'drilling', 'drilling',\n",
       "       'jackhammer', 'jackhammer', 'gun_shot', 'street_music', 'siren',\n",
       "       'air_conditioner', 'car_horn', 'jackhammer', 'drilling',\n",
       "       'gun_shot', 'car_horn', 'siren', 'car_horn', 'siren', 'dog_bark',\n",
       "       'street_music', 'gun_shot', 'drilling', 'street_music',\n",
       "       'street_music', 'drilling', 'engine_idling', 'gun_shot', 'siren',\n",
       "       'children_playing', 'drilling', 'engine_idling', 'gun_shot',\n",
       "       'jackhammer', 'jackhammer', 'children_playing', 'air_conditioner',\n",
       "       'drilling', 'drilling', 'dog_bark', 'drilling', 'gun_shot',\n",
       "       'engine_idling', 'drilling', 'children_playing', 'engine_idling',\n",
       "       'street_music', 'children_playing', 'dog_bark', 'gun_shot',\n",
       "       'engine_idling', 'children_playing', 'engine_idling', 'siren',\n",
       "       'gun_shot', 'gun_shot', 'air_conditioner', 'jackhammer',\n",
       "       'drilling', 'siren', 'children_playing', 'children_playing',\n",
       "       'siren', 'engine_idling', 'siren', 'gun_shot', 'siren',\n",
       "       'street_music', 'children_playing', 'dog_bark', 'children_playing',\n",
       "       'jackhammer', 'gun_shot', 'car_horn', 'jackhammer', 'gun_shot',\n",
       "       'jackhammer', 'drilling', 'drilling', 'siren', 'dog_bark',\n",
       "       'engine_idling', 'dog_bark', 'gun_shot', 'drilling', 'gun_shot',\n",
       "       'engine_idling', 'gun_shot', 'drilling', 'street_music',\n",
       "       'jackhammer', 'drilling', 'engine_idling', 'dog_bark', 'siren',\n",
       "       'drilling', 'drilling', 'engine_idling', 'car_horn', 'dog_bark',\n",
       "       'children_playing', 'jackhammer', 'siren', 'children_playing',\n",
       "       'gun_shot', 'car_horn', 'engine_idling', 'drilling',\n",
       "       'street_music', 'car_horn', 'air_conditioner', 'car_horn',\n",
       "       'drilling', 'siren', 'air_conditioner', 'car_horn', 'dog_bark',\n",
       "       'street_music', 'jackhammer', 'car_horn', 'siren', 'jackhammer',\n",
       "       'jackhammer', 'drilling', 'drilling', 'siren', 'children_playing',\n",
       "       'siren', 'gun_shot', 'street_music', 'street_music',\n",
       "       'street_music', 'gun_shot', 'gun_shot', 'drilling', 'gun_shot',\n",
       "       'drilling', 'siren', 'siren', 'street_music', 'drilling',\n",
       "       'engine_idling', 'car_horn', 'gun_shot', 'jackhammer',\n",
       "       'street_music', 'siren', 'engine_idling', 'drilling', 'drilling',\n",
       "       'children_playing', 'car_horn', 'children_playing',\n",
       "       'engine_idling', 'siren', 'street_music', 'gun_shot',\n",
       "       'children_playing', 'street_music', 'gun_shot', 'drilling',\n",
       "       'dog_bark', 'gun_shot', 'children_playing', 'jackhammer',\n",
       "       'engine_idling', 'air_conditioner', 'drilling', 'street_music',\n",
       "       'car_horn', 'air_conditioner', 'air_conditioner', 'siren', 'siren',\n",
       "       'dog_bark', 'street_music', 'children_playing', 'children_playing',\n",
       "       'car_horn', 'jackhammer', 'drilling', 'gun_shot', 'drilling',\n",
       "       'drilling', 'car_horn', 'drilling', 'drilling', 'drilling',\n",
       "       'dog_bark', 'drilling', 'siren', 'siren', 'gun_shot', 'drilling',\n",
       "       'dog_bark', 'engine_idling', 'car_horn', 'siren', 'drilling',\n",
       "       'street_music', 'siren', 'drilling', 'jackhammer', 'car_horn',\n",
       "       'children_playing', 'car_horn', 'engine_idling', 'street_music',\n",
       "       'siren', 'street_music', 'dog_bark', 'engine_idling', 'car_horn',\n",
       "       'jackhammer', 'drilling', 'drilling', 'drilling',\n",
       "       'air_conditioner', 'jackhammer', 'car_horn', 'gun_shot',\n",
       "       'drilling', 'drilling', 'street_music', 'drilling',\n",
       "       'engine_idling', 'children_playing', 'siren', 'street_music',\n",
       "       'dog_bark', 'car_horn', 'dog_bark', 'drilling', 'dog_bark',\n",
       "       'siren', 'street_music', 'engine_idling', 'siren', 'siren',\n",
       "       'drilling', 'drilling', 'car_horn', 'gun_shot', 'street_music',\n",
       "       'children_playing', 'drilling', 'jackhammer', 'drilling',\n",
       "       'children_playing', 'car_horn', 'engine_idling',\n",
       "       'children_playing', 'gun_shot', 'car_horn', 'car_horn', 'drilling',\n",
       "       'car_horn', 'children_playing', 'jackhammer', 'car_horn',\n",
       "       'children_playing', 'siren', 'drilling', 'siren', 'drilling',\n",
       "       'street_music', 'engine_idling', 'dog_bark', 'jackhammer',\n",
       "       'air_conditioner', 'dog_bark', 'car_horn', 'children_playing',\n",
       "       'engine_idling', 'jackhammer', 'car_horn', 'gun_shot', 'car_horn',\n",
       "       'drilling', 'dog_bark', 'children_playing', 'engine_idling',\n",
       "       'drilling', 'children_playing', 'gun_shot', 'engine_idling',\n",
       "       'street_music', 'jackhammer', 'children_playing', 'engine_idling',\n",
       "       'engine_idling', 'drilling', 'jackhammer', 'drilling',\n",
       "       'jackhammer', 'drilling', 'engine_idling', 'engine_idling',\n",
       "       'engine_idling', 'drilling', 'gun_shot', 'engine_idling',\n",
       "       'children_playing', 'gun_shot', 'street_music', 'street_music',\n",
       "       'gun_shot', 'jackhammer', 'street_music', 'drilling', 'siren',\n",
       "       'street_music', 'engine_idling', 'gun_shot', 'drilling',\n",
       "       'gun_shot', 'siren', 'street_music', 'drilling', 'car_horn',\n",
       "       'jackhammer', 'gun_shot', 'air_conditioner', 'children_playing',\n",
       "       'siren', 'gun_shot', 'siren', 'drilling', 'street_music',\n",
       "       'street_music', 'gun_shot', 'gun_shot', 'children_playing',\n",
       "       'engine_idling', 'air_conditioner', 'siren', 'gun_shot',\n",
       "       'engine_idling', 'gun_shot', 'drilling', 'jackhammer', 'drilling',\n",
       "       'air_conditioner', 'engine_idling', 'drilling', 'street_music',\n",
       "       'drilling', 'drilling', 'street_music', 'street_music', 'drilling',\n",
       "       'siren', 'engine_idling', 'engine_idling', 'engine_idling',\n",
       "       'car_horn', 'dog_bark', 'drilling', 'street_music',\n",
       "       'children_playing', 'siren', 'siren', 'children_playing',\n",
       "       'gun_shot', 'drilling', 'children_playing', 'siren',\n",
       "       'engine_idling', 'children_playing', 'gun_shot',\n",
       "       'children_playing', 'gun_shot', 'engine_idling', 'jackhammer',\n",
       "       'siren', 'children_playing', 'dog_bark', 'children_playing',\n",
       "       'siren', 'car_horn', 'engine_idling', 'gun_shot', 'engine_idling',\n",
       "       'drilling', 'jackhammer', 'drilling', 'car_horn',\n",
       "       'air_conditioner', 'car_horn', 'car_horn', 'drilling', 'dog_bark',\n",
       "       'engine_idling', 'engine_idling', 'siren', 'jackhammer',\n",
       "       'street_music', 'drilling', 'street_music', 'engine_idling',\n",
       "       'engine_idling', 'drilling', 'street_music', 'engine_idling',\n",
       "       'drilling', 'engine_idling', 'gun_shot', 'jackhammer',\n",
       "       'street_music', 'drilling', 'street_music', 'car_horn', 'gun_shot',\n",
       "       'dog_bark', 'siren', 'drilling', 'street_music',\n",
       "       'children_playing', 'jackhammer', 'car_horn', 'drilling',\n",
       "       'drilling', 'children_playing', 'dog_bark', 'gun_shot',\n",
       "       'children_playing', 'siren', 'siren', 'drilling',\n",
       "       'children_playing', 'gun_shot', 'children_playing', 'siren',\n",
       "       'gun_shot', 'car_horn', 'dog_bark', 'drilling', 'children_playing',\n",
       "       'children_playing', 'air_conditioner', 'jackhammer',\n",
       "       'engine_idling', 'gun_shot', 'drilling', 'gun_shot', 'drilling',\n",
       "       'children_playing', 'car_horn', 'air_conditioner', 'car_horn',\n",
       "       'siren', 'children_playing', 'street_music', 'engine_idling',\n",
       "       'jackhammer', 'car_horn', 'jackhammer', 'siren', 'dog_bark',\n",
       "       'dog_bark', 'car_horn', 'engine_idling', 'street_music',\n",
       "       'drilling', 'drilling', 'jackhammer', 'children_playing', 'siren',\n",
       "       'dog_bark', 'dog_bark', 'air_conditioner', 'siren',\n",
       "       'engine_idling', 'gun_shot', 'children_playing', 'street_music',\n",
       "       'car_horn', 'engine_idling', 'children_playing', 'drilling',\n",
       "       'air_conditioner', 'jackhammer', 'air_conditioner',\n",
       "       'air_conditioner', 'children_playing', 'drilling', 'engine_idling',\n",
       "       'dog_bark', 'street_music', 'drilling', 'street_music',\n",
       "       'engine_idling', 'air_conditioner', 'siren', 'car_horn',\n",
       "       'drilling', 'street_music', 'siren', 'drilling', 'engine_idling',\n",
       "       'jackhammer', 'car_horn', 'drilling', 'children_playing',\n",
       "       'drilling', 'siren', 'air_conditioner', 'street_music', 'siren',\n",
       "       'engine_idling', 'drilling', 'drilling', 'drilling', 'jackhammer',\n",
       "       'street_music', 'drilling', 'drilling', 'drilling',\n",
       "       'children_playing', 'gun_shot', 'siren', 'engine_idling',\n",
       "       'air_conditioner', 'jackhammer', 'dog_bark', 'siren',\n",
       "       'street_music', 'engine_idling', 'gun_shot', 'siren', 'jackhammer',\n",
       "       'siren', 'street_music', 'gun_shot', 'drilling',\n",
       "       'children_playing', 'engine_idling', 'drilling', 'gun_shot',\n",
       "       'engine_idling', 'siren', 'engine_idling', 'engine_idling',\n",
       "       'drilling', 'gun_shot', 'drilling', 'engine_idling',\n",
       "       'street_music', 'dog_bark', 'car_horn', 'children_playing',\n",
       "       'drilling', 'siren', 'drilling', 'drilling', 'siren', 'drilling',\n",
       "       'gun_shot', 'drilling', 'drilling', 'siren', 'air_conditioner',\n",
       "       'gun_shot', 'drilling', 'gun_shot', 'drilling', 'drilling',\n",
       "       'drilling', 'car_horn', 'children_playing', 'jackhammer',\n",
       "       'car_horn', 'dog_bark', 'car_horn', 'car_horn', 'children_playing',\n",
       "       'street_music', 'engine_idling', 'gun_shot', 'dog_bark',\n",
       "       'drilling', 'gun_shot', 'drilling', 'air_conditioner', 'drilling',\n",
       "       'children_playing', 'drilling', 'street_music', 'drilling',\n",
       "       'air_conditioner', 'street_music', 'car_horn', 'gun_shot',\n",
       "       'street_music', 'engine_idling', 'car_horn', 'gun_shot',\n",
       "       'gun_shot', 'street_music', 'drilling', 'children_playing',\n",
       "       'street_music', 'gun_shot', 'jackhammer', 'drilling',\n",
       "       'engine_idling', 'siren', 'engine_idling', 'jackhammer',\n",
       "       'engine_idling', 'street_music', 'car_horn', 'engine_idling',\n",
       "       'engine_idling', 'drilling', 'jackhammer', 'street_music',\n",
       "       'street_music', 'gun_shot', 'gun_shot', 'gun_shot', 'siren',\n",
       "       'siren', 'street_music', 'dog_bark', 'car_horn', 'engine_idling',\n",
       "       'street_music', 'drilling', 'car_horn', 'jackhammer',\n",
       "       'street_music', 'drilling', 'children_playing', 'drilling',\n",
       "       'siren', 'air_conditioner', 'engine_idling', 'children_playing',\n",
       "       'air_conditioner', 'drilling', 'jackhammer', 'street_music',\n",
       "       'drilling', 'gun_shot', 'street_music', 'car_horn', 'siren',\n",
       "       'drilling', 'siren', 'jackhammer', 'car_horn', 'children_playing',\n",
       "       'car_horn', 'drilling', 'dog_bark', 'drilling', 'siren',\n",
       "       'gun_shot', 'engine_idling', 'car_horn', 'siren', 'dog_bark',\n",
       "       'gun_shot', 'children_playing'], dtype='<U16')"
      ]
     },
     "execution_count": 13,
     "metadata": {},
     "output_type": "execute_result"
    }
   ],
   "source": [
    "# Final predictions using CNN\n",
    "cnn_predictions = mapping(cnn_predictions)\n",
    "cnn_predictions"
   ]
  }
 ],
 "metadata": {
  "accelerator": "GPU",
  "colab": {
   "collapsed_sections": [],
   "name": "CNNModelEvaluation.ipynb",
   "provenance": []
  },
  "kernelspec": {
   "display_name": "Python 3 (ipykernel)",
   "language": "python",
   "name": "python3"
  },
  "language_info": {
   "codemirror_mode": {
    "name": "ipython",
    "version": 3
   },
   "file_extension": ".py",
   "mimetype": "text/x-python",
   "name": "python",
   "nbconvert_exporter": "python",
   "pygments_lexer": "ipython3",
   "version": "3.10.0"
  }
 },
 "nbformat": 4,
 "nbformat_minor": 1
}
