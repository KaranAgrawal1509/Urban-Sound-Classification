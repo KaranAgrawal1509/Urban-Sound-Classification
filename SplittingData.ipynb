{
 "cells": [
  {
   "cell_type": "markdown",
   "id": "f9bf697d",
   "metadata": {},
   "source": [
    "# MIT License\n",
    "Copyright (c) 2022 Karan Raman Agrawal, Sanika Patne\n",
    "\n",
    "Permission is hereby granted, free of charge, to any person obtaining a copy of this software and associated documentation files (the \"Software\"), to deal in the Software without restriction, including without limitation the rights to use, copy, modify, merge, publish, distribute, sublicense, and/or sell copies of the Software, and to permit persons to whom the Software is furnished to do so, subject to the following conditions:\n",
    "\n",
    "The above copyright notice and this permission notice shall be included in all copies or substantial portions of the Software.\n",
    "\n",
    "THE SOFTWARE IS PROVIDED \"AS IS\", WITHOUT WARRANTY OF ANY KIND, EXPRESS OR IMPLIED, INCLUDING BUT NOT LIMITED TO THE WARRANTIES OF MERCHANTABILITY, FITNESS FOR A PARTICULAR PURPOSE AND NONINFRINGEMENT. IN NO EVENT SHALL THE AUTHORS OR COPYRIGHT HOLDERS BE LIABLE FOR ANY CLAIM, DAMAGES OR OTHER LIABILITY, WHETHER IN AN ACTION OF CONTRACT, TORT OR OTHERWISE, ARISING FROM, OUT OF OR IN CONNECTION WITH THE SOFTWARE OR THE USE OR OTHER DEALINGS IN THE SOFTWARE."
   ]
  },
  {
   "cell_type": "markdown",
   "id": "699d0419",
   "metadata": {},
   "source": [
    "# Dataset Description\n",
    "For this project we will be using the “UrbanSound8k” dataset, which is publicly available for academic use.\n",
    "\n",
    "This dataset contains 8732 labeled sound excerpts (<=4s) of urban sounds from 10 classes: air_conditioner, car_horn, children_playing, dog_bark, drilling, enginge_idling, gun_shot, jackhammer, siren, and street_music. The audio files are in \".wav\" format. \n",
    "\n",
    "The samples are around 4 seconds in length. \n",
    "\n",
    "Each sound sample is labeled with the class to which it belongs. After downloading the dataset, we see that it consists of two parts:\n",
    "\n",
    "- Audio files in the ‘audio’ folder: It has 10 sub-folders named ‘fold1’ through ‘fold10’. Each sub-folder contains a number of ‘.wav’ audio samples eg. ‘fold1/103074–7–1–0.wav’\n",
    "\n",
    "- Metadata in the ‘metadata’ folder: It has a file ‘UrbanSound8K.csv’ that contains information about each audio sample in the dataset such as its filename, its class label, the ‘fold’ sub-folder location, and so on. The class label is a numeric Class ID from 0–9 for each of the 10 classes. eg. The number 0 means air conditioner, 1 is a car horn, and so on. \n"
   ]
  },
  {
   "cell_type": "code",
   "execution_count": 1,
   "id": "8e07cf4b",
   "metadata": {},
   "outputs": [],
   "source": [
    "# Importing all necessary libraries\n",
    "import os\n",
    "import shutil"
   ]
  },
  {
   "cell_type": "code",
   "execution_count": 2,
   "id": "a0985605",
   "metadata": {},
   "outputs": [],
   "source": [
    "# Get Path Environments\n",
    "def list_full_paths(directory):\n",
    "    return [os.path.join(directory, file) for file in os.listdir(directory)]"
   ]
  },
  {
   "cell_type": "code",
   "execution_count": 3,
   "id": "bf2b0a82",
   "metadata": {},
   "outputs": [],
   "source": [
    "# Get Partitions\n",
    "def partition_pct(lst, point):\n",
    "    idx = int(len(lst) * point)\n",
    "    return lst[:idx], lst[idx:]"
   ]
  },
  {
   "cell_type": "code",
   "execution_count": 4,
   "id": "24eefc44",
   "metadata": {},
   "outputs": [],
   "source": [
    "# Function to split audio\n",
    "def split_audio(path):\n",
    "    audio_list = list_full_paths(path)\n",
    "    training_data, remaining_data = partition_pct(audio_list, 0.8)\n",
    "    validation_data, test_data = partition_pct(remaining_data, 0.5)\n",
    "    return training_data, validation_data, test_data"
   ]
  },
  {
   "cell_type": "code",
   "execution_count": 5,
   "id": "ab9e8785",
   "metadata": {},
   "outputs": [],
   "source": [
    "# Setting Paths\n",
    "source_path = r\"C:\\Users\\Karan\\Desktop\\DSMT\\Final-Project\\UrbanSound_ClassifiedAudio\"\n",
    "training_destination_path = (\n",
    "    r\"C:\\Users\\Karan\\Desktop\\DSMT\\Final-Project\\Split_Audio_Dataset\\Training_Dataset\"\n",
    ")\n",
    "validation_destination_path = (\n",
    "    r\"C:\\Users\\Karan\\Desktop\\DSMT\\Final-Project\\Split_Audio_Dataset\\Validation_Dataset\"\n",
    ")\n",
    "test_destination_path = (\n",
    "    r\"C:\\Users\\Karan\\Desktop\\DSMT\\Final-Project\\Split_Audio_Dataset\\Test_Dataset\"\n",
    ")"
   ]
  },
  {
   "cell_type": "code",
   "execution_count": 6,
   "id": "275068e7",
   "metadata": {},
   "outputs": [],
   "source": [
    "source_files = list_full_paths(source_path)\n",
    "training_files = list_full_paths(training_destination_path)\n",
    "validation_files = list_full_paths(validation_destination_path)\n",
    "test_files = list_full_paths(test_destination_path)"
   ]
  },
  {
   "cell_type": "code",
   "execution_count": 7,
   "id": "3dbd113d",
   "metadata": {},
   "outputs": [],
   "source": [
    "# Main\n",
    "for i in range(len(source_files)):\n",
    "    training_audio, validation_audio, test_audio = split_audio(source_files[i])\n",
    "    for j in training_audio:\n",
    "        shutil.copy2(j, training_files[i])\n",
    "    for j in validation_audio:\n",
    "        shutil.copy2(j, validation_files[i])\n",
    "    for j in test_audio:\n",
    "        shutil.copy2(j, test_files[0])"
   ]
  }
 ],
 "metadata": {
  "interpreter": {
   "hash": "b7c51fef5a6c481e3e4bf2f5462b9da1b95d7b0f21f6f425d93a030c5061e1d8"
  },
  "kernelspec": {
   "display_name": "Python 3 (ipykernel)",
   "language": "python",
   "name": "python3"
  },
  "language_info": {
   "codemirror_mode": {
    "name": "ipython",
    "version": 3
   },
   "file_extension": ".py",
   "mimetype": "text/x-python",
   "name": "python",
   "nbconvert_exporter": "python",
   "pygments_lexer": "ipython3",
   "version": "3.10.0"
  }
 },
 "nbformat": 4,
 "nbformat_minor": 5
}
