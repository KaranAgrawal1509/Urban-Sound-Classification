{
 "cells": [
  {
   "cell_type": "code",
   "execution_count": null,
   "id": "d6f711ad",
   "metadata": {},
   "outputs": [],
   "source": [
    "import gc\n",
    "\n",
    "import librosa\n",
    "import librosa.display\n",
    "import matplotlib.pyplot as plt\n",
    "import numpy as np\n",
    "from matplotlib.backends.backend_agg import FigureCanvasAgg as FigureCanvas\n",
    "\n",
    "plt.figure(figsize=(8, 7))\n",
    ""
   ]
  },
  {
   "cell_type": "code",
   "execution_count": null,
   "id": "dd5b3c5a",
   "metadata": {},
   "outputs": [],
   "source": [
    "def list_full_paths(directory):\n",
    "    return [\n",
    "        os.path.join(directory, file) for file in os.listdir(directory)\n",
    "    ], os.listdir(directory)\n",
    ""
   ]
  },
  {
   "cell_type": "code",
   "execution_count": null,
   "id": "70b0eb36",
   "metadata": {},
   "outputs": [],
   "source": [
    "def extract_mel_spectrogram(path, name):\n",
    "    gc.collect()\n",
    "    y, sr = librosa.load(path)\n",
    "    mel_signal = librosa.feature.melspectrogram(y=y, sr=sr, hop_length=512, n_fft=2048)\n",
    "    spectrogram = np.abs(mel_signal)\n",
    "    power_to_db = librosa.power_to_db(spectrogram, ref=np.max)\n",
    "    librosa.display.specshow(\n",
    "        power_to_db, sr=sr, x_axis=\"time\", y_axis=\"mel\", cmap=\"magma\", hop_length=512\n",
    "    )\n",
    "    plt.axis(\"off\")\n",
    "    plt.savefig(destination_path + \"\\\\\" + name[:-4] + \".png\", dpi=600)\n",
    "    # plt.show()\n",
    ""
   ]
  },
  {
   "cell_type": "code",
   "execution_count": null,
   "id": "86893403",
   "metadata": {},
   "outputs": [],
   "source": [
    "source_path = r\"C:\\Users\\Karan\\Desktop\\DSMT\\Final-Project\\Split_Audio_Dataset\\Validation_Dataset\\street_music\"\n",
    "destination_path = r\"C:\\Users\\Karan\\Desktop\\DSMT\\Final-Project\\Spectrogram_Dataset\\Validation_Data\\street_music\"\n",
    "l, r = list_full_paths(source_path)\n",
    ""
   ]
  },
  {
   "cell_type": "code",
   "execution_count": null,
   "id": "c4e4b7c0",
   "metadata": {},
   "outputs": [],
   "source": [
    "from tqdm import tqdm\n",
    "\n",
    "for i in tqdm(range(len(l))):\n",
    "    extract_mel_spectrogram(l[i], r[i])\n",
    ""
   ]
  },
  {
   "cell_type": "code",
   "execution_count": null,
   "id": "f72d9d9d",
   "metadata": {},
   "outputs": [],
   "source": []
  },
  {
   "cell_type": "code",
   "execution_count": null,
   "id": "f1c9ac7a",
   "metadata": {},
   "outputs": [],
   "source": []
  },
  {
   "cell_type": "code",
   "execution_count": null,
   "id": "0c731ca1",
   "metadata": {},
   "outputs": [],
   "source": []
  },
  {
   "cell_type": "code",
   "execution_count": null,
   "id": "f057b649",
   "metadata": {},
   "outputs": [],
   "source": []
  },
  {
   "cell_type": "code",
   "execution_count": null,
   "id": "931302ab",
   "metadata": {},
   "outputs": [],
   "source": []
  }
 ],
 "metadata": {
  "interpreter": {
   "hash": "b7c51fef5a6c481e3e4bf2f5462b9da1b95d7b0f21f6f425d93a030c5061e1d8"
  },
  "kernelspec": {
   "display_name": "Python 3.10.0 64-bit",
   "language": "python",
   "name": "python3"
  },
  "language_info": {
   "codemirror_mode": {
    "name": "ipython",
    "version": 3
   },
   "file_extension": ".py",
   "mimetype": "text/x-python",
   "name": "python",
   "nbconvert_exporter": "python",
   "pygments_lexer": "ipython3",
   "version": "3.10.0"
  }
 },
 "nbformat": 4,
 "nbformat_minor": 5
}
