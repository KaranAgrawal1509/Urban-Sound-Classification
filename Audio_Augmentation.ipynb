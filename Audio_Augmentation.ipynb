{
 "cells": [
  {
   "cell_type": "code",
   "execution_count": 86,
   "id": "2b79c60d",
   "metadata": {},
   "outputs": [
    {
     "data": {
      "text/plain": [
       "<Figure size 864x288 with 0 Axes>"
      ]
     },
     "execution_count": 86,
     "metadata": {},
     "output_type": "execute_result"
    },
    {
     "data": {
      "text/plain": [
       "<Figure size 864x288 with 0 Axes>"
      ]
     },
     "metadata": {},
     "output_type": "display_data"
    }
   ],
   "source": [
    "import os\n",
    "import numpy as np\n",
    "import soundfile as sf\n",
    "import librosa\n",
    "import librosa.display\n",
    "import matplotlib.pyplot as plt\n",
    "from IPython.display import Audio\n",
    "plt.figure(figsize=(12, 4))"
   ]
  },
  {
   "cell_type": "code",
   "execution_count": 87,
   "id": "b0ae54c8",
   "metadata": {},
   "outputs": [],
   "source": [
    "def read_audio(audio):\n",
    "    y, sr = librosa.load(audio, sr = 22050)\n",
    "    return y, sr"
   ]
  },
  {
   "cell_type": "code",
   "execution_count": 88,
   "id": "a40d9388",
   "metadata": {},
   "outputs": [],
   "source": [
    "def display_wave(y, sr = 22050):\n",
    "    librosa.display.waveshow(y, sr=sr)"
   ]
  },
  {
   "cell_type": "code",
   "execution_count": 99,
   "id": "45c70701",
   "metadata": {},
   "outputs": [],
   "source": [
    "def augment_audio_derivative(y):\n",
    "    y1 = np.gradient(y)\n",
    "    y2 = np.gradient(y1)\n",
    "    return y1, y2"
   ]
  },
  {
   "cell_type": "code",
   "execution_count": 90,
   "id": "85798d91",
   "metadata": {},
   "outputs": [],
   "source": [
    "def write_audio(name, new_wave):\n",
    "    sf.write(name ,new_wave , 22050, 'PCM_24')"
   ]
  },
  {
   "cell_type": "code",
   "execution_count": 91,
   "id": "ce9d6410",
   "metadata": {},
   "outputs": [],
   "source": [
    "def list_full_paths(directory):\n",
    "    return [os.path.join(directory, file) for file in os.listdir(directory)], os.listdir(directory)"
   ]
  },
  {
   "cell_type": "code",
   "execution_count": 100,
   "id": "f5b845f4",
   "metadata": {},
   "outputs": [],
   "source": [
    "path = r\"C:\\Users\\Karan\\Desktop\\DSMT\\Final-Project\\Split_Audio_Dataset\\Validation_Dataset\\car_horn\"\n",
    "directory, audio_name = list_full_paths(path)\n",
    "for i in range(len(directory)):\n",
    "    y, sr = read_audio(directory[i])\n",
    "    y1, y2 = augment_audio_derivative(y)\n",
    "    write_audio(path+ \"\\\\\" + \"D1_\" + audio_name[i], y1)"
   ]
  },
  {
   "cell_type": "code",
   "execution_count": 101,
   "id": "8785cbd1",
   "metadata": {},
   "outputs": [],
   "source": [
    "path = r\"C:\\Users\\Karan\\Desktop\\DSMT\\Final-Project\\Split_Audio_Dataset\\Validation_Dataset\\gun_shot\"\n",
    "directory, audio_name = list_full_paths(path)\n",
    "for i in range(len(directory)):\n",
    "    y, sr = read_audio(directory[i])\n",
    "    y1, y2 = augment_audio_derivative(y)\n",
    "    write_audio(path+ \"\\\\\" + \"D1_\" + audio_name[i], y1)\n",
    "    write_audio(path+ \"\\\\\" + \"D2_\" + audio_name[i], y1)"
   ]
  },
  {
   "cell_type": "code",
   "execution_count": null,
   "id": "4f950f24",
   "metadata": {},
   "outputs": [],
   "source": []
  }
 ],
 "metadata": {
  "interpreter": {
   "hash": "b7c51fef5a6c481e3e4bf2f5462b9da1b95d7b0f21f6f425d93a030c5061e1d8"
  },
  "kernelspec": {
   "display_name": "Python 3.10.0 64-bit",
   "language": "python",
   "name": "python3"
  },
  "language_info": {
   "codemirror_mode": {
    "name": "ipython",
    "version": 3
   },
   "file_extension": ".py",
   "mimetype": "text/x-python",
   "name": "python",
   "nbconvert_exporter": "python",
   "pygments_lexer": "ipython3",
   "version": "3.10.0"
  }
 },
 "nbformat": 4,
 "nbformat_minor": 5
}
