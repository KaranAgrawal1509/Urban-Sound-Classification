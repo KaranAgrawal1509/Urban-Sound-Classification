{
 "cells": [
  {
   "cell_type": "markdown",
   "id": "a0add892",
   "metadata": {},
   "source": [
    "# MIT License\n",
    "Copyright (c) 2022 Karan Raman Agrawal, Sanika Patne\n",
    "\n",
    "Permission is hereby granted, free of charge, to any person obtaining a copy of this software and associated documentation files (the \"Software\"), to deal in the Software without restriction, including without limitation the rights to use, copy, modify, merge, publish, distribute, sublicense, and/or sell copies of the Software, and to permit persons to whom the Software is furnished to do so, subject to the following conditions:\n",
    "\n",
    "The above copyright notice and this permission notice shall be included in all copies or substantial portions of the Software.\n",
    "\n",
    "THE SOFTWARE IS PROVIDED \"AS IS\", WITHOUT WARRANTY OF ANY KIND, EXPRESS OR IMPLIED, INCLUDING BUT NOT LIMITED TO THE WARRANTIES OF MERCHANTABILITY, FITNESS FOR A PARTICULAR PURPOSE AND NONINFRINGEMENT. IN NO EVENT SHALL THE AUTHORS OR COPYRIGHT HOLDERS BE LIABLE FOR ANY CLAIM, DAMAGES OR OTHER LIABILITY, WHETHER IN AN ACTION OF CONTRACT, TORT OR OTHERWISE, ARISING FROM, OUT OF OR IN CONNECTION WITH THE SOFTWARE OR THE USE OR OTHER DEALINGS IN THE SOFTWARE.\n",
    "\n"
   ]
  },
  {
   "cell_type": "markdown",
   "id": "d211f9a1",
   "metadata": {},
   "source": [
    "# Dataset Description\n",
    "For this project we will be using the “UrbanSound8k” dataset, which is publicly available for academic use.\n",
    "\n",
    "This dataset contains 8732 labeled sound excerpts (<=4s) of urban sounds from 10 classes: air_conditioner, car_horn, children_playing, dog_bark, drilling, enginge_idling, gun_shot, jackhammer, siren, and street_music. The audio files are in \".wav\" format. \n",
    "\n",
    "The samples are around 4 seconds in length. \n",
    "\n",
    "Each sound sample is labeled with the class to which it belongs. After downloading the dataset, we see that it consists of two parts:\n",
    "\n",
    "- Audio files in the ‘audio’ folder: It has 10 sub-folders named ‘fold1’ through ‘fold10’. Each sub-folder contains a number of ‘.wav’ audio samples eg. ‘fold1/103074–7–1–0.wav’\n",
    "\n",
    "- Metadata in the ‘metadata’ folder: It has a file ‘UrbanSound8K.csv’ that contains information about each audio sample in the dataset such as its filename, its class label, the ‘fold’ sub-folder location, and so on. The class label is a numeric Class ID from 0–9 for each of the 10 classes. eg. The number 0 means air conditioner, 1 is a car horn, and so on. \n"
   ]
  },
  {
   "cell_type": "code",
   "execution_count": 80,
   "id": "1fc469d4",
   "metadata": {},
   "outputs": [],
   "source": [
    "# Importing all required libraries\n",
    "import os\n",
    "import pandas as pd"
   ]
  },
  {
   "cell_type": "code",
   "execution_count": 81,
   "id": "0bb56f70",
   "metadata": {},
   "outputs": [],
   "source": [
    "def list_full_paths(directory):\n",
    "    return [\n",
    "        os.path.join(directory, file) for file in os.listdir(directory)\n",
    "    ], os.listdir(directory)"
   ]
  },
  {
   "cell_type": "code",
   "execution_count": 82,
   "id": "644a28f3",
   "metadata": {},
   "outputs": [],
   "source": [
    "# Pairing of Audio and Paths\n",
    "def getPair(path):\n",
    "    train_dict = {}\n",
    "    class_paths, classes = list_full_paths(path)\n",
    "    for i in range(len(class_paths)):\n",
    "        audios = os.listdir(class_paths[i])\n",
    "        for audio in audios:\n",
    "            train_dict[audio] = classes[i]\n",
    "    return train_dict"
   ]
  },
  {
   "cell_type": "code",
   "execution_count": 83,
   "id": "48146286",
   "metadata": {},
   "outputs": [],
   "source": [
    "# Checking if Split is Correct\n",
    "def check_split(dictionary, file_class_dict):\n",
    "    for key, value in dictionary.items():\n",
    "        if (key in file_class_dict and value == file_class_dict[key]) == False:\n",
    "            print(\"Error in Splitting\")\n",
    "    print(\"Correct Split\")"
   ]
  },
  {
   "cell_type": "code",
   "execution_count": 84,
   "id": "bc19b2ae",
   "metadata": {},
   "outputs": [],
   "source": [
    "data = pd.read_csv(\n",
    "    r\"C:\\Users\\Karan\\Desktop\\DSMT\\Final-Project\\UrbanSound8K\\metadata\\UrbanSound8K.csv\"\n",
    ")\n",
    "file_class_dict = data.set_index(\"slice_file_name\").to_dict()[\"class\"]"
   ]
  },
  {
   "cell_type": "code",
   "execution_count": 85,
   "id": "095a3497",
   "metadata": {},
   "outputs": [],
   "source": [
    "train_dict = getPair(\n",
    "    r\"C:\\Users\\Karan\\Desktop\\DSMT\\Final-Project\\Split_Audio_Dataset - Copy\\Training_Dataset\"\n",
    ")\n",
    "valid_dict = getPair(\n",
    "    r\"C:\\Users\\Karan\\Desktop\\DSMT\\Final-Project\\Split_Audio_Dataset - Copy\\Validation_Dataset\"\n",
    ")"
   ]
  },
  {
   "cell_type": "code",
   "execution_count": 86,
   "id": "d397526b",
   "metadata": {},
   "outputs": [
    {
     "name": "stdout",
     "output_type": "stream",
     "text": [
      "Correct Split\n"
     ]
    }
   ],
   "source": [
    "# Main\n",
    "check_split(train_dict, file_class_dict)"
   ]
  },
  {
   "cell_type": "code",
   "execution_count": 87,
   "id": "a16a1e08",
   "metadata": {},
   "outputs": [
    {
     "name": "stdout",
     "output_type": "stream",
     "text": [
      "Correct Split\n"
     ]
    }
   ],
   "source": [
    "# Main\n",
    "check_split(valid_dict, file_class_dict)"
   ]
  },
  {
   "cell_type": "code",
   "execution_count": null,
   "id": "9a3198a7",
   "metadata": {},
   "outputs": [],
   "source": []
  }
 ],
 "metadata": {
  "interpreter": {
   "hash": "b7c51fef5a6c481e3e4bf2f5462b9da1b95d7b0f21f6f425d93a030c5061e1d8"
  },
  "kernelspec": {
   "display_name": "Python 3 (ipykernel)",
   "language": "python",
   "name": "python3"
  },
  "language_info": {
   "codemirror_mode": {
    "name": "ipython",
    "version": 3
   },
   "file_extension": ".py",
   "mimetype": "text/x-python",
   "name": "python",
   "nbconvert_exporter": "python",
   "pygments_lexer": "ipython3",
   "version": "3.10.0"
  }
 },
 "nbformat": 4,
 "nbformat_minor": 5
}
