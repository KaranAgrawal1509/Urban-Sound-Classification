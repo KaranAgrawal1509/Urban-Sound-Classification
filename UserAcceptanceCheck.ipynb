{
 "cells": [
  {
   "cell_type": "markdown",
   "id": "23a8f0a8",
   "metadata": {},
   "source": [
    "# MIT License\n",
    "Copyright (c) 2022 Karan Raman Agrawal, Sanika Patne\n",
    "\n",
    "Permission is hereby granted, free of charge, to any person obtaining a copy of this software and associated documentation files (the \"Software\"), to deal in the Software without restriction, including without limitation the rights to use, copy, modify, merge, publish, distribute, sublicense, and/or sell copies of the Software, and to permit persons to whom the Software is furnished to do so, subject to the following conditions:\n",
    "\n",
    "The above copyright notice and this permission notice shall be included in all copies or substantial portions of the Software.\n",
    "\n",
    "THE SOFTWARE IS PROVIDED \"AS IS\", WITHOUT WARRANTY OF ANY KIND, EXPRESS OR IMPLIED, INCLUDING BUT NOT LIMITED TO THE WARRANTIES OF MERCHANTABILITY, FITNESS FOR A PARTICULAR PURPOSE AND NONINFRINGEMENT. IN NO EVENT SHALL THE AUTHORS OR COPYRIGHT HOLDERS BE LIABLE FOR ANY CLAIM, DAMAGES OR OTHER LIABILITY, WHETHER IN AN ACTION OF CONTRACT, TORT OR OTHERWISE, ARISING FROM, OUT OF OR IN CONNECTION WITH THE SOFTWARE OR THE USE OR OTHER DEALINGS IN THE SOFTWARE.\n",
    "\n"
   ]
  },
  {
   "cell_type": "markdown",
   "id": "445472c9",
   "metadata": {},
   "source": [
    "# Dataset Description\n",
    "For this project we will be using the “UrbanSound8k” dataset, which is publicly available for academic use.\n",
    "\n",
    "This dataset contains 8732 labeled sound excerpts (<=4s) of urban sounds from 10 classes: air_conditioner, car_horn, children_playing, dog_bark, drilling, enginge_idling, gun_shot, jackhammer, siren, and street_music. The audio files are in \".wav\" format. \n",
    "\n",
    "The samples are around 4 seconds in length. \n",
    "\n",
    "Each sound sample is labeled with the class to which it belongs. After downloading the dataset, we see that it consists of two parts:\n",
    "\n",
    "- Audio files in the ‘audio’ folder: It has 10 sub-folders named ‘fold1’ through ‘fold10’. Each sub-folder contains a number of ‘.wav’ audio samples eg. ‘fold1/103074–7–1–0.wav’\n",
    "\n",
    "- Metadata in the ‘metadata’ folder: It has a file ‘UrbanSound8K.csv’ that contains information about each audio sample in the dataset such as its filename, its class label, the ‘fold’ sub-folder location, and so on. The class label is a numeric Class ID from 0–9 for each of the 10 classes. eg. The number 0 means air conditioner, 1 is a car horn, and so on. \n"
   ]
  },
  {
   "cell_type": "code",
   "execution_count": 1,
   "id": "8c553b5b",
   "metadata": {},
   "outputs": [],
   "source": [
    "# Importing all necessary libraries\n",
    "import librosa\n",
    "import glob\n",
    "import os\n",
    "from multiprocessing import Pool\n",
    "import matplotlib.pyplot as plt\n",
    "import numpy as np\n",
    "from PIL import Image"
   ]
  },
  {
   "cell_type": "code",
   "execution_count": 2,
   "id": "bd971ea6",
   "metadata": {},
   "outputs": [],
   "source": [
    "# Get Paths\n",
    "def list_full_paths(directory):\n",
    "    return [\n",
    "        os.path.join(directory, file) for file in os.listdir(directory)\n",
    "    ], os.listdir(directory)"
   ]
  },
  {
   "cell_type": "code",
   "execution_count": null,
   "id": "72a859d2",
   "metadata": {},
   "outputs": [],
   "source": [
    "# Checking if all Spectrograms are allocated correct\n",
    "def extract_mel_spectrogram(path, name):\n",
    "    y, sr = librosa.load(path)\n",
    "    mel_signal = librosa.feature.melspectrogram(y=y, sr=sr, hop_length=512, n_fft=2048)\n",
    "    spectrogram = np.abs(mel_signal)\n",
    "    power_to_db = librosa.power_to_db(spectrogram, ref=np.max)\n",
    "    librosa.display.specshow(\n",
    "        power_to_db, sr=sr, x_axis=\"time\", y_axis=\"mel\", cmap=\"magma\", hop_length=512\n",
    "    )\n",
    "    plt.axis(\"off\")\n",
    "    plt.savefig(destination_path + \"\\\\\" + name[:-4] + \".png\", dpi=600)\n",
    "    # plt.show()\n",
    "\n",
    "\n",
    "if __name__ == \"__main__\":\n",
    "\n",
    "    source_path = r\"C:\\Users\\Karan\\Desktop\\DSMT\\Final-Project\\Split_Audio_Dataset\\Training_Dataset\\air_conditioner\"\n",
    "    destination_path = r\"C:\\Users\\Karan\\Desktop\\DSMT\\Final-Project\\Spectrogram_Dataset - Copy\\Training_Data\\air_conditioner\"\n",
    "\n",
    "    # Create a pool of processes to check files\n",
    "    p = Pool()\n",
    "    audio_paths, audio_names = list_full_paths(source_path)\n",
    "    p.starmap(extract_mel_spectrogram, [audio_paths, audio_names])\n",
    "\n",
    "    # Filter out None values representing files that are ok, leaving just corrupt ones\n",
    "    # result = list(filter(None, result))\n",
    "    # print(f\"Num corrupt files: {len(result)}\")"
   ]
  }
 ],
 "metadata": {
  "interpreter": {
   "hash": "b7c51fef5a6c481e3e4bf2f5462b9da1b95d7b0f21f6f425d93a030c5061e1d8"
  },
  "kernelspec": {
   "display_name": "Python 3 (ipykernel)",
   "language": "python",
   "name": "python3"
  },
  "language_info": {
   "codemirror_mode": {
    "name": "ipython",
    "version": 3
   },
   "file_extension": ".py",
   "mimetype": "text/x-python",
   "name": "python",
   "nbconvert_exporter": "python",
   "pygments_lexer": "ipython3",
   "version": "3.10.0"
  }
 },
 "nbformat": 4,
 "nbformat_minor": 5
}
