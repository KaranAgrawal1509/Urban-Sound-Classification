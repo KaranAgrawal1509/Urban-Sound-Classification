{
 "cells": [
  {
   "cell_type": "code",
   "execution_count": null,
   "id": "f4bdfdbb",
   "metadata": {},
   "outputs": [],
   "source": [
    "import numpy as np\n",
    "import pandas as pd\n",
    ""
   ]
  },
  {
   "cell_type": "code",
   "execution_count": null,
   "id": "7b3898be",
   "metadata": {},
   "outputs": [],
   "source": [
    "data = pd.read_csv(\n",
    "    \"C:\\Users\\Karan\\Desktop\\DSMT\\Final-Project\\UrbanSound8K\\metadata\\UrbanSound8K.csv\"\n",
    ")\n",
    ""
   ]
  },
  {
   "cell_type": "code",
   "execution_count": null,
   "id": "29a20c40",
   "metadata": {},
   "outputs": [],
   "source": [
    "data.shape\n",
    ""
   ]
  },
  {
   "cell_type": "code",
   "execution_count": null,
   "id": "4dd2ad1a",
   "metadata": {},
   "outputs": [],
   "source": [
    "data.head()\n",
    ""
   ]
  },
  {
   "cell_type": "code",
   "execution_count": null,
   "id": "58b3d336",
   "metadata": {},
   "outputs": [],
   "source": [
    "appended = []\n",
    "for i in range(1, 11):\n",
    "    appended.append(data[data.fold == i][\"class\"].value_counts())\n",
    "\n",
    "class_distribution = pd.DataFrame(appended)\n",
    "class_distribution = class_distribution.reset_index()\n",
    "class_distribution[\"index\"] = [\"fold\" + str(x) for x in range(1, 11)]\n",
    "class_distribution\n",
    ""
   ]
  },
  {
   "cell_type": "markdown",
   "id": "e6cb787e",
   "metadata": {},
   "source": [
    "Moving audio files to their respective class folders"
   ]
  },
  {
   "cell_type": "code",
   "execution_count": null,
   "id": "23b0fa44",
   "metadata": {},
   "outputs": [],
   "source": [
    "file_class_dict = data.set_index(\"slice_file_name\").to_dict()[\"class\"]\n",
    ""
   ]
  },
  {
   "cell_type": "code",
   "execution_count": null,
   "id": "3d9d5125",
   "metadata": {},
   "outputs": [],
   "source": [
    "destination_path = r\"C:\\Users\\Karan\\Desktop\\DSMT\\Final-Project\\class_audio\"\n",
    ""
   ]
  },
  {
   "cell_type": "code",
   "execution_count": null,
   "id": "ea57a39f",
   "metadata": {},
   "outputs": [],
   "source": [
    "path = r\"C:\\Users\\Karan\\Desktop\\DSMT\\Final-Project\\UrbanSound8K\\audio\"\n",
    "for i in os.listdir(path):\n",
    "    internal_path = path + \"\\\\\" + i\n",
    "    for j in os.listdir(internal_path):\n",
    "        audio_path = internal_path + \"\\\\\" + j\n",
    "        audio_class_path = destination_path + \"\\\\\" + file_class_dict.get(j)\n",
    "        shutil.copy2(audio_path, audio_class_path)\n",
    ""
   ]
  },
  {
   "cell_type": "markdown",
   "id": "bda799a9",
   "metadata": {},
   "source": [
    "References\n",
    "- https://github.com/tthustla/urban_sound_classification/blob/master/urban_sound_classification_part1.ipynb"
   ]
  }
 ],
 "metadata": {
  "interpreter": {
   "hash": "b7c51fef5a6c481e3e4bf2f5462b9da1b95d7b0f21f6f425d93a030c5061e1d8"
  },
  "kernelspec": {
   "display_name": "Python 3.10.0 64-bit",
   "language": "python",
   "name": "python3"
  },
  "language_info": {
   "codemirror_mode": {
    "name": "ipython",
    "version": 3
   },
   "file_extension": ".py",
   "mimetype": "text/x-python",
   "name": "python",
   "nbconvert_exporter": "python",
   "pygments_lexer": "ipython3",
   "version": "3.10.0"
  }
 },
 "nbformat": 4,
 "nbformat_minor": 5
}
