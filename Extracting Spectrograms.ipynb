{
 "cells": [
  {
   "cell_type": "code",
   "execution_count": null,
   "id": "1684b730",
   "metadata": {},
   "outputs": [],
   "source": []
  },
  {
   "cell_type": "code",
   "execution_count": null,
   "id": "f41d5de7",
   "metadata": {},
   "outputs": [],
   "source": [
    "def list_full_paths(directory):\n",
    "    return [os.path.join(directory, file) for file in os.listdir(directory)]"
   ]
  },
  {
   "cell_type": "code",
   "execution_count": null,
   "id": "56527cb4",
   "metadata": {},
   "outputs": [],
   "source": [
    "def partition_pct(lst, point):\n",
    "    idx = int(len(lst) * point)\n",
    "    return lst[:idx], lst[idx:]"
   ]
  },
  {
   "cell_type": "code",
   "execution_count": null,
   "id": "b2ba842a",
   "metadata": {},
   "outputs": [],
   "source": [
    "def split_audio(path):\n",
    "    audio_list = list_full_paths(path)\n",
    "    training_data, remaining_data = partition_pct(audio_list, 0.8)\n",
    "    validation_data, test_data = partition_pct(remaining_data, 0.5)\n",
    "    return training_data, validation_data, test_data"
   ]
  },
  {
   "cell_type": "code",
   "execution_count": null,
   "id": "4a7a568d",
   "metadata": {},
   "outputs": [],
   "source": [
    "source_path = r\"C:\\Users\\Karan\\Desktop\\DSMT\\Final-Project\\UrbanSound_ClassifiedAudio\"\n",
    "training_destination_path = (\n",
    "    r\"C:\\Users\\Karan\\Desktop\\DSMT\\Final-Project\\Split_Audio_Dataset\\Training_Dataset\"\n",
    ")\n",
    "validation_destination_path = (\n",
    "    r\"C:\\Users\\Karan\\Desktop\\DSMT\\Final-Project\\Split_Audio_Dataset\\Validation_Dataset\"\n",
    ")\n",
    "test_destination_path = (\n",
    "    r\"C:\\Users\\Karan\\Desktop\\DSMT\\Final-Project\\Split_Audio_Dataset\\Test_Dataset\"\n",
    ")"
   ]
  },
  {
   "cell_type": "code",
   "execution_count": null,
   "id": "af76c8e3",
   "metadata": {},
   "outputs": [],
   "source": [
    "source_files = list_full_paths(source_path)\n",
    "training_files = list_full_paths(training_destination_path)\n",
    "validation_files = list_full_paths(validation_destination_path)\n",
    "test_files = list_full_paths(test_destination_path)"
   ]
  },
  {
   "cell_type": "code",
   "execution_count": null,
   "id": "ffd3228b",
   "metadata": {},
   "outputs": [],
   "source": [
    "for i in range(len(source_files)):\n",
    "    training_audio, validation_audio, test_audio = split_audio(source_files[i])\n",
    "    for j in training_audio:\n",
    "        shutil.copy2(j, training_files[i])\n",
    "    for j in validation_audio:\n",
    "        shutil.copy2(j, validation_files[i])\n",
    "    for j in test_audio:\n",
    "        shutil.copy2(j, test_files[0])"
   ]
  }
 ],
 "metadata": {
  "interpreter": {
   "hash": "b7c51fef5a6c481e3e4bf2f5462b9da1b95d7b0f21f6f425d93a030c5061e1d8"
  },
  "kernelspec": {
   "display_name": "Python 3.10.0 64-bit",
   "language": "python",
   "name": "python3"
  },
  "language_info": {
   "codemirror_mode": {
    "name": "ipython",
    "version": 3
   },
   "file_extension": ".py",
   "mimetype": "text/x-python",
   "name": "python",
   "nbconvert_exporter": "python",
   "pygments_lexer": "ipython3",
   "version": "3.10.0"
  }
 },
 "nbformat": 4,
 "nbformat_minor": 5
}
