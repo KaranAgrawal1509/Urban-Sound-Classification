{
 "cells": [
  {
   "cell_type": "code",
   "execution_count": null,
   "id": "aad4b317",
   "metadata": {},
   "outputs": [],
   "source": [
    "import pandas as pd"
   ]
  },
  {
   "cell_type": "code",
   "execution_count": null,
   "id": "3d42b360",
   "metadata": {},
   "outputs": [],
   "source": [
    "def list_full_paths(directory):\n",
    "    return [\n",
    "        os.path.join(directory, file) for file in os.listdir(directory)\n",
    "    ], os.listdir(directory)"
   ]
  },
  {
   "cell_type": "code",
   "execution_count": null,
   "id": "12d6d126",
   "metadata": {},
   "outputs": [],
   "source": [
    "def getPair(path):\n",
    "    train_dict = {}\n",
    "    class_paths, classes = list_full_paths(path)\n",
    "    for i in range(len(class_paths)):\n",
    "        audios = os.listdir(class_paths[i])\n",
    "        for audio in audios:\n",
    "            train_dict[audio] = classes[i]\n",
    "    return train_dict"
   ]
  },
  {
   "cell_type": "code",
   "execution_count": null,
   "id": "f1ca2e7d",
   "metadata": {},
   "outputs": [],
   "source": [
    "def check_split(dictionary, file_class_dict):\n",
    "    for key, value in dictionary.items():\n",
    "        if (key in file_class_dict and value == file_class_dict[key]) == False:\n",
    "            print(\"Error in Splitting\")\n",
    "    print(\"Correct Split\")"
   ]
  },
  {
   "cell_type": "code",
   "execution_count": null,
   "id": "f4c8b3b6",
   "metadata": {},
   "outputs": [],
   "source": [
    "data = pd.read_csv(\n",
    "    r\"C:\\Users\\Karan\\Desktop\\DSMT\\Final-Project\\UrbanSound8K\\metadata\\UrbanSound8K.csv\"\n",
    ")\n",
    "file_class_dict = data.set_index(\"slice_file_name\").to_dict()[\"class\"]"
   ]
  },
  {
   "cell_type": "code",
   "execution_count": null,
   "id": "29b56f79",
   "metadata": {},
   "outputs": [],
   "source": [
    "train_dict = getPair(\n",
    "    r\"C:\\Users\\Karan\\Desktop\\DSMT\\Final-Project\\Split_Audio_Dataset - Copy\\Training_Dataset\"\n",
    ")\n",
    "valid_dict = getPair(\n",
    "    r\"C:\\Users\\Karan\\Desktop\\DSMT\\Final-Project\\Split_Audio_Dataset - Copy\\Validation_Dataset\"\n",
    ")"
   ]
  },
  {
   "cell_type": "code",
   "execution_count": null,
   "id": "6f16e257",
   "metadata": {},
   "outputs": [],
   "source": [
    "check_split(train_dict, file_class_dict)"
   ]
  },
  {
   "cell_type": "code",
   "execution_count": null,
   "id": "257d8b37",
   "metadata": {},
   "outputs": [],
   "source": [
    "check_split(valid_dict, file_class_dict)"
   ]
  },
  {
   "cell_type": "code",
   "execution_count": null,
   "id": "7640c8b8",
   "metadata": {},
   "outputs": [],
   "source": []
  }
 ],
 "metadata": {
  "interpreter": {
   "hash": "b7c51fef5a6c481e3e4bf2f5462b9da1b95d7b0f21f6f425d93a030c5061e1d8"
  },
  "kernelspec": {
   "display_name": "Python 3.10.0 64-bit",
   "language": "python",
   "name": "python3"
  },
  "language_info": {
   "codemirror_mode": {
    "name": "ipython",
    "version": 3
   },
   "file_extension": ".py",
   "mimetype": "text/x-python",
   "name": "python",
   "nbconvert_exporter": "python",
   "pygments_lexer": "ipython3",
   "version": "3.10.0"
  }
 },
 "nbformat": 4,
 "nbformat_minor": 5
}
