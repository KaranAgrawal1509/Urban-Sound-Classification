{
 "cells": [
  {
   "cell_type": "code",
   "execution_count": 80,
   "id": "aad4b317",
   "metadata": {},
   "outputs": [],
   "source": [
    "import os\n",
    "import pandas as pd"
   ]
  },
  {
   "cell_type": "code",
   "execution_count": 81,
   "id": "3d42b360",
   "metadata": {},
   "outputs": [],
   "source": [
    "def list_full_paths(directory):\n",
    "    return [os.path.join(directory, file) for file in os.listdir(directory)], os.listdir(directory)"
   ]
  },
  {
   "cell_type": "code",
   "execution_count": 82,
   "id": "12d6d126",
   "metadata": {},
   "outputs": [],
   "source": [
    "def getPair(path):\n",
    "    train_dict = {}\n",
    "    class_paths, classes = list_full_paths(path)\n",
    "    for i in range(len(class_paths)):\n",
    "        audios = os.listdir(class_paths[i])\n",
    "        for audio in audios:\n",
    "            train_dict[audio] = classes[i]\n",
    "    return train_dict"
   ]
  },
  {
   "cell_type": "code",
   "execution_count": 83,
   "id": "f1ca2e7d",
   "metadata": {},
   "outputs": [],
   "source": [
    "def check_split(dictionary, file_class_dict):\n",
    "    for key, value in dictionary.items():\n",
    "        if (key in file_class_dict and value == file_class_dict[key]) == False:\n",
    "            print(\"Error in Splitting\")\n",
    "    print(\"Correct Split\")"
   ]
  },
  {
   "cell_type": "code",
   "execution_count": 84,
   "id": "f4c8b3b6",
   "metadata": {},
   "outputs": [],
   "source": [
    "data = pd.read_csv(r\"C:\\Users\\Karan\\Desktop\\DSMT\\Final-Project\\UrbanSound8K\\metadata\\UrbanSound8K.csv\")\n",
    "file_class_dict = data.set_index('slice_file_name').to_dict()['class']"
   ]
  },
  {
   "cell_type": "code",
   "execution_count": 85,
   "id": "29b56f79",
   "metadata": {},
   "outputs": [],
   "source": [
    "train_dict = getPair(r\"C:\\Users\\Karan\\Desktop\\DSMT\\Final-Project\\Split_Audio_Dataset - Copy\\Training_Dataset\")\n",
    "valid_dict = getPair(r\"C:\\Users\\Karan\\Desktop\\DSMT\\Final-Project\\Split_Audio_Dataset - Copy\\Validation_Dataset\")"
   ]
  },
  {
   "cell_type": "code",
   "execution_count": 86,
   "id": "6f16e257",
   "metadata": {},
   "outputs": [
    {
     "name": "stdout",
     "output_type": "stream",
     "text": [
      "Correct Split\n"
     ]
    }
   ],
   "source": [
    "check_split(train_dict, file_class_dict)"
   ]
  },
  {
   "cell_type": "code",
   "execution_count": 87,
   "id": "257d8b37",
   "metadata": {},
   "outputs": [
    {
     "name": "stdout",
     "output_type": "stream",
     "text": [
      "Correct Split\n"
     ]
    }
   ],
   "source": [
    "check_split(valid_dict, file_class_dict)"
   ]
  },
  {
   "cell_type": "code",
   "execution_count": null,
   "id": "7640c8b8",
   "metadata": {},
   "outputs": [],
   "source": []
  }
 ],
 "metadata": {
  "interpreter": {
   "hash": "b7c51fef5a6c481e3e4bf2f5462b9da1b95d7b0f21f6f425d93a030c5061e1d8"
  },
  "kernelspec": {
   "display_name": "Python 3.10.0 64-bit",
   "language": "python",
   "name": "python3"
  },
  "language_info": {
   "codemirror_mode": {
    "name": "ipython",
    "version": 3
   },
   "file_extension": ".py",
   "mimetype": "text/x-python",
   "name": "python",
   "nbconvert_exporter": "python",
   "pygments_lexer": "ipython3",
   "version": "3.10.0"
  }
 },
 "nbformat": 4,
 "nbformat_minor": 5
}
